{
 "cells": [
  {
   "cell_type": "code",
   "execution_count": 23,
   "id": "2836ad7c-66d8-4867-a17f-0d02a646b9cb",
   "metadata": {},
   "outputs": [
    {
     "name": "stdout",
     "output_type": "stream",
     "text": [
      "أول 5 صفوف:\n",
      "   Price       Date Student Course Name\n",
      "0    200  10/1/2024   Aisha  Python 101\n",
      "1    150  10/1/2024    Reem   UX Basics\n",
      "2    200  10/2/2024   Sarah  Python 101\n",
      "3    180  10/3/2024    Noor    Data Viz\n",
      "4    150  10/4/2024   Layla   UX Basics\n",
      "\n",
      "عدد التسجيلات: 5\n",
      "\n",
      "إجمالي الإيرادات: 880\n",
      "\n",
      "متوسط السعر: 176.0\n",
      "\n",
      "أكثر دورة تم تسجيلها: Python 101\n"
     ]
    }
   ],
   "source": [
    "import pandas as pd\n",
    "\n",
    "# قراءة الملف بدون رؤوس أعمدة\n",
    "raw_data = pd.read_csv(\"course_data.csv\", header=None)\n",
    "\n",
    "# فصل الأعمدة يدوياً\n",
    "data = raw_data[0].str.split(\",\", expand=True)\n",
    "\n",
    "# حذف الصف الأول (اللي يحتوي على العناوين القديمة)\n",
    "data = data.drop(index=0).reset_index(drop=True)\n",
    "\n",
    "# تعيين أسماء الأعمدة الجديدة\n",
    "data.columns = [\"Price\", \"Date\", \"Student\", \"Course Name\"]\n",
    "\n",
    "# تحويل السعر إلى رقم صحيح\n",
    "data[\"Price\"] = data[\"Price\"].astype(int)\n",
    "\n",
    "# عرض أول 5 صفوف\n",
    "print(\"أول 5 صفوف:\")\n",
    "print(data.head())\n",
    "\n",
    "# عدد التسجيلات\n",
    "print(\"\\nعدد التسجيلات:\", len(data))\n",
    "\n",
    "# إجمالي الإيرادات\n",
    "print(\"\\nإجمالي الإيرادات:\", data[\"Price\"].sum())\n",
    "\n",
    "# متوسط السعر\n",
    "print(\"\\nمتوسط السعر:\", data[\"Price\"].mean())\n",
    "\n",
    "# أكثر دورة تم تسجيلها\n",
    "print(\"\\nأكثر دورة تم تسجيلها:\", data[\"Course Name\"].value_counts().idxmax())\n",
    "\n"
   ]
  },
  {
   "cell_type": "code",
   "execution_count": null,
   "id": "7fbd4f1d-ff00-472a-a169-aefc310cc72f",
   "metadata": {},
   "outputs": [],
   "source": []
  }
 ],
 "metadata": {
  "kernelspec": {
   "display_name": "Python [conda env:base] *",
   "language": "python",
   "name": "conda-base-py"
  },
  "language_info": {
   "codemirror_mode": {
    "name": "ipython",
    "version": 3
   },
   "file_extension": ".py",
   "mimetype": "text/x-python",
   "name": "python",
   "nbconvert_exporter": "python",
   "pygments_lexer": "ipython3",
   "version": "3.12.7"
  }
 },
 "nbformat": 4,
 "nbformat_minor": 5
}
